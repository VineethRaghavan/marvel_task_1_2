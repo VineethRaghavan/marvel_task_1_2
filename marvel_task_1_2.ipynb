{
 "cells": [
  {
   "cell_type": "markdown",
   "id": "f04e03a6",
   "metadata": {},
   "source": [
    "# Marvel tasks 1 and 2\n",
    "\n",
    "## Project report\n",
    "\n",
    "The following is my submission to Marvel with regard to tasks 1 and 2, which require a project and a report on the same. This document contains python code which can be executed along with the corresponding documentation so as to give the reader a better understanding of the project."
   ]
  },
  {
   "cell_type": "markdown",
   "id": "df10baf4",
   "metadata": {},
   "source": [
    "### Problem statement\n",
    "\n",
    "```\n",
    "Given a data-set of usual wake-up times and usual bed-times of college students, visualize the data and find if there is any relation between wake-up time and bed-time. If there is a relation, develop a model to predict bed-time of a random student, given his/her/their wake-up time. Bonus points for finding extra insights with the data.\n",
    "```"
   ]
  },
  {
   "cell_type": "markdown",
   "id": "49313223",
   "metadata": {},
   "source": [
    "### Proposed solution\n",
    "#### Abstract\n",
    "\n",
    "I shall demonstrate that the sleep time of a student is indeed correlated linearly with their wake-up time. Further, I shall also be using the K-means clustering algorithm to classify the data points into 4 different categories. After this, I shall be depicting a visualization of the mean sleep duration across the engineering branches mentioned in the dataset.\n",
    "\n",
    "I shall be using the following python libraries to implement the solution:\n",
    "1. pandas\n",
    "2. matplotlib\n",
    "3. numpy\n",
    "4. scikit-learn"
   ]
  },
  {
   "cell_type": "markdown",
   "id": "c378b751",
   "metadata": {},
   "source": [
    "#### Start of project\n",
    "The first step is to clean up the dataset in order to use it in an efficient manner."
   ]
  },
  {
   "cell_type": "code",
   "execution_count": 1,
   "id": "7eaee0e4",
   "metadata": {
    "scrolled": true
   },
   "outputs": [
    {
     "name": "stdout",
     "output_type": "stream",
     "text": [
      "              Timestamp Year. Branch  \\\n",
      "0    6/12/2022 18:46:02   3rd    ECE   \n",
      "1    6/12/2022 18:57:41   1st    ISE   \n",
      "2    6/12/2022 18:57:53   1st    ISE   \n",
      "3    6/12/2022 18:58:03   2nd    ISE   \n",
      "4    6/12/2022 18:59:31   2nd    ISE   \n",
      "..                  ...   ...    ...   \n",
      "149  6/13/2022 11:54:37   1st    EEE   \n",
      "150  6/13/2022 11:55:10   3rd    ISE   \n",
      "151  6/13/2022 12:21:04   3rd    CSE   \n",
      "152  6/13/2022 12:34:08   1st    ISE   \n",
      "153  6/13/2022 13:34:37   3rd    ECE   \n",
      "\n",
      "    at what time do you usually go to sleep? (be honest)  \\\n",
      "0                                          10:45:00 PM     \n",
      "1                                          10:30:00 PM     \n",
      "2                                          12:00:00 PM     \n",
      "3                                           1:30:00 AM     \n",
      "4                                          11:30:00 PM     \n",
      "..                                                 ...     \n",
      "149                                        12:00:00 PM     \n",
      "150                                        12:01:00 AM     \n",
      "151                                        12:30:00 AM     \n",
      "152                                        12:30:00 AM     \n",
      "153                                        10:00:00 PM     \n",
      "\n",
      "    at what time do you usually wake up? (be honest)  \n",
      "0                                         6:15:00 AM  \n",
      "1                                         6:00:00 AM  \n",
      "2                                         6:30:00 AM  \n",
      "3                                         9:00:00 AM  \n",
      "4                                         9:30:00 AM  \n",
      "..                                               ...  \n",
      "149                                       8:00:00 AM  \n",
      "150                                       7:30:00 AM  \n",
      "151                                       8:30:00 AM  \n",
      "152                                       7:30:00 AM  \n",
      "153                                       6:00:00 AM  \n",
      "\n",
      "[154 rows x 5 columns]\n"
     ]
    }
   ],
   "source": [
    "import pandas as pd\n",
    "pd.set_option('mode.chained_assignment', None)\n",
    "data_file = pd.read_csv(\"sleep_data.csv\")\n",
    "print(data_file)"
   ]
  },
  {
   "cell_type": "markdown",
   "id": "f0194747",
   "metadata": {},
   "source": [
    "The given dataset had time formatting errors. As can be seen, some data points have sleep time listed as 12:00:00 PM, 11:30:00 AM, etc. We need to clean up the data so as to correct these data points and to convert them into a standard format. The following code achieves this:"
   ]
  },
  {
   "cell_type": "code",
   "execution_count": 2,
   "id": "6acc36a1",
   "metadata": {},
   "outputs": [],
   "source": [
    "from datetime import datetime\n",
    "new_text = []\n",
    "pms = [\"8:\", \"9:\", \"10:\", \"11:\"]\n",
    "ams = [\"12:\", \"1:\", \"2:\", \"3:\", \"4:\", \"5:\", \"6:\"]\n",
    "with open(\"sleep_data.csv\", 'r') as f:\n",
    "    text = ''.join([i for i in f])\n",
    "    text = text.split(\"\\n\")\n",
    "    new_text.append(text[0])\n",
    "    text.remove(text[0])\n",
    "    for i in text:\n",
    "        temp = i.split(\",\")\n",
    "        x = temp[3]\n",
    "        for p in pms:\n",
    "            if x.startswith(p):\n",
    "                x = x.replace(\"AM\", \"PM\")\n",
    "        for a in ams:\n",
    "            if x.startswith(a):\n",
    "                x = x.replace(\"PM\", \"AM\")\n",
    "        in_time = datetime.strptime(x, \"%I:%M:%S %p\")\n",
    "        out_time = datetime.strftime(in_time, \"%H:%M\")\n",
    "        temp[3] = out_time\n",
    "        y = temp[4]\n",
    "        if y.startswith(\"12\"):\n",
    "                y = y.replace(\"AM\", \"PM\")\n",
    "        in_time = datetime.strptime(y, \"%I:%M:%S %p\")\n",
    "        out_time = datetime.strftime(in_time, \"%H:%M\")\n",
    "        temp[4] = out_time\n",
    "        new_text.append(','.join(temp))\n",
    "    n_f = open(\"sleep_data_clean.csv\", \"w\")\n",
    "    n_f.write('\\n'.join(new_text))\n",
    "    n_f.close()"
   ]
  },
  {
   "cell_type": "code",
   "execution_count": 3,
   "id": "d61a176e",
   "metadata": {},
   "outputs": [
    {
     "name": "stdout",
     "output_type": "stream",
     "text": [
      "              Timestamp Year. Branch  \\\n",
      "0    6/12/2022 18:46:02   3rd    ECE   \n",
      "1    6/12/2022 18:57:41   1st    ISE   \n",
      "2    6/12/2022 18:57:53   1st    ISE   \n",
      "3    6/12/2022 18:58:03   2nd    ISE   \n",
      "4    6/12/2022 18:59:31   2nd    ISE   \n",
      "..                  ...   ...    ...   \n",
      "149  6/13/2022 11:54:37   1st    EEE   \n",
      "150  6/13/2022 11:55:10   3rd    ISE   \n",
      "151  6/13/2022 12:21:04   3rd    CSE   \n",
      "152  6/13/2022 12:34:08   1st    ISE   \n",
      "153  6/13/2022 13:34:37   3rd    ECE   \n",
      "\n",
      "    at what time do you usually go to sleep? (be honest)  \\\n",
      "0                                                22:45     \n",
      "1                                                22:30     \n",
      "2                                                00:00     \n",
      "3                                                01:30     \n",
      "4                                                23:30     \n",
      "..                                                 ...     \n",
      "149                                              00:00     \n",
      "150                                              00:01     \n",
      "151                                              00:30     \n",
      "152                                              00:30     \n",
      "153                                              22:00     \n",
      "\n",
      "    at what time do you usually wake up? (be honest)  \n",
      "0                                              06:15  \n",
      "1                                              06:00  \n",
      "2                                              06:30  \n",
      "3                                              09:00  \n",
      "4                                              09:30  \n",
      "..                                               ...  \n",
      "149                                            08:00  \n",
      "150                                            07:30  \n",
      "151                                            08:30  \n",
      "152                                            07:30  \n",
      "153                                            06:00  \n",
      "\n",
      "[154 rows x 5 columns]\n"
     ]
    }
   ],
   "source": [
    "data_file = pd.read_csv(\"sleep_data_clean.csv\")\n",
    "print(data_file)"
   ]
  },
  {
   "cell_type": "markdown",
   "id": "af21ff72",
   "metadata": {},
   "source": [
    "Now that we have a clean data set to work with, we proceed to import the required libraries:\n"
   ]
  },
  {
   "cell_type": "code",
   "execution_count": 4,
   "id": "851aff00",
   "metadata": {},
   "outputs": [],
   "source": [
    "import matplotlib.pyplot as plt\n",
    "import matplotlib.ticker as tck\n",
    "import numpy as np\n",
    "from sklearn.cluster import KMeans"
   ]
  },
  {
   "cell_type": "code",
   "execution_count": 5,
   "id": "218feef7",
   "metadata": {},
   "outputs": [],
   "source": [
    "data = data_file.iloc[:, [3,4]]\n",
    "data.columns = ['X', 'Y']"
   ]
  },
  {
   "cell_type": "markdown",
   "id": "191d3e47",
   "metadata": {},
   "source": [
    "We then read the data from the clean dataset and extract the columns which are of interest to us i.e. the sleep time and the wake-up time. We then label them as 'X' and 'Y' respectively so as to make it easier for us to refer to them."
   ]
  },
  {
   "cell_type": "code",
   "execution_count": 6,
   "id": "243fa370",
   "metadata": {},
   "outputs": [
    {
     "name": "stdout",
     "output_type": "stream",
     "text": [
      "        X     Y\n",
      "0    1.45  6.15\n",
      "1    1.30  6.00\n",
      "2    3.00  6.30\n",
      "3    4.30  9.00\n",
      "4    2.30  9.30\n",
      "..    ...   ...\n",
      "149  3.00  8.00\n",
      "150  3.01  7.30\n",
      "151  3.30  8.30\n",
      "152  3.30  7.30\n",
      "153  1.00  6.00\n",
      "\n",
      "[154 rows x 2 columns]\n"
     ]
    }
   ],
   "source": [
    "sleep_time = {\n",
    "    \"21\": \"0\",\n",
    "    \"22\": \"1\",\n",
    "    \"23\": \"2\",\n",
    "    \"00\": \"3\",\n",
    "    \"01\": \"4\",\n",
    "    \"02\": \"5\",\n",
    "    \"03\": \"6\",\n",
    "    \"04\": \"7\",\n",
    "    \"05\": \"8\",\n",
    "    \"06\": \"9\",\n",
    "    \"07\": \"10\",\n",
    "    \"08\": \"11\",\n",
    "    \"09\": \"12\",\n",
    "}\n",
    "\n",
    "X = []\n",
    "X_cluster = []\n",
    "Y = []\n",
    "for i in data['X']:\n",
    "    s = i.split(\":\")\n",
    "    X.append(float(sleep_time[s[0]]+\".\"+s[1]))\n",
    "    X_cluster.append(float(s[0]+\".\"+s[1]))\n",
    "\n",
    "for i in data['Y']:\n",
    "    s = i.split(\":\")\n",
    "    Y.append(float(s[0]+\".\"+s[1]))\n",
    "\n",
    "df = pd.DataFrame({'X': X, 'Y': Y})\n",
    "print(df)"
   ]
  },
  {
   "cell_type": "markdown",
   "id": "b7f760d6",
   "metadata": {},
   "source": [
    "We create a dictionary to map the sleep time's hour parameter to integers starting from 1 so as to convert the time-based data to interval-type data. We then append the minutes parameter to the result obtained to further obtain a float number that corresponds to the sleep time. We do the mapping only to the sleep time and not to the wake-up time because the wake-up time has an inherent order to it, while the sleep time does not (21:00 occurs earlier than 01:00 in the context of sleep time, whereas 21.00 is not greater than 1.00).\n",
    "\n",
    "At this point, the observant reader may note that we have two arrays, X and X_cluster. The reason for making two arrays will be clarified in due time."
   ]
  },
  {
   "cell_type": "code",
   "execution_count": 7,
   "id": "569927d5",
   "metadata": {},
   "outputs": [
    {
     "name": "stdout",
     "output_type": "stream",
     "text": [
      "Slope : 0.573981294284648\n",
      "Intercept : 5.588059761116583\n"
     ]
    }
   ],
   "source": [
    "fit = np.polyfit(df[\"X\"], df[\"Y\"], deg=1)\n",
    "fit_function = np.poly1d(fit)\n",
    "\n",
    "print (\"Slope : \" + str(fit[0]))\n",
    "print (\"Intercept : \" + str(fit[1]))"
   ]
  },
  {
   "cell_type": "markdown",
   "id": "4a75c4a7",
   "metadata": {},
   "source": [
    "We then apply a linear regression model on the above dataset so as to be able to predict the wake-up time of a student, given their sleep time.\n",
    "\n",
    "Technically, the function used is a polynomial regression model, but the degree parameter is passed as 1.\n",
    "\n",
    "In linear regression, we essentially model the relationship between the dependent variable and the independent variable. We do this by estimating the best values for a and b in the equation for a straight line (given a dataset):\n",
    "![](https://latex.codecogs.com/svg.image?%5Clarge%20y%20=%20ax%20&plus;%20b)"
   ]
  },
  {
   "cell_type": "code",
   "execution_count": 8,
   "id": "de079a97",
   "metadata": {},
   "outputs": [
    {
     "data": {
      "image/png": "[encoded data removed]",
      "text/plain": [
       "<Figure size 720x360 with 1 Axes>"
      ]
     },
     "metadata": {
      "needs_background": "light"
     },
     "output_type": "display_data"
    }
   ],
   "source": [
    "fig1 = plt.figure(0, figsize=(10,5))\n",
    "ax1 = plt.subplot()\n",
    "ax1.set(xlabel=\"Sleep time\",\n",
    "       ylabel=\"Wake-up time\",\n",
    "       title=\"Sleep Data (Linear Regression)\")\n",
    "\n",
    "ax1.xaxis.set_major_locator(tck.MultipleLocator(1))\n",
    "ax1.yaxis.set_major_locator(tck.MultipleLocator(1))\n",
    "ax1.grid()\n",
    "plt.scatter(X, Y)\n",
    "plt.xticks(range(13), list(sleep_time.keys()))\n",
    "plt.plot(X, fit_function(X), color=\"green\")\n",
    "plt.show()"
   ]
  },
  {
   "cell_type": "markdown",
   "id": "c573b220",
   "metadata": {},
   "source": [
    "The above code generates a graph to visualise the dataset using a scatterplot, and has also plotted the best fit line on the graph.\n",
    "\n",
    "We shall now see an example of how this model can be used to predict the wake-up time of a student."
   ]
  },
  {
   "cell_type": "code",
   "execution_count": 9,
   "id": "484c914c",
   "metadata": {
    "scrolled": true
   },
   "outputs": [
    {
     "name": "stdout",
     "output_type": "stream",
     "text": [
      "Enter your wake-up time in the format HH:MM > 07:00\n",
      "Prediction of sleep time: 23:00\n"
     ]
    }
   ],
   "source": [
    "random_sleep_time = input(\"Enter your wake-up time in the format HH:MM > \")\n",
    "time_array = random_sleep_time.split(\":\")\n",
    "y = float(time_array[0] + \".\" + time_array[1])\n",
    "x = int((1/fit[0])*(y-fit[1]))\n",
    "if x < 4:\n",
    "    result = 21 + x\n",
    "else:\n",
    "    result = \"0\" + str(x-3)\n",
    "print(f\"Prediction of sleep time: {result}:00\")"
   ]
  },
  {
   "cell_type": "markdown",
   "id": "d019a2a4",
   "metadata": {},
   "source": [
    "We shall now see the classification of the datapoints on the graph using the K-means clustering algorithm. \n",
    "\n",
    "K-Means clustering is an Unsupervised Learning algorithm, which groups the unlabeled dataset into different clusters. Here, K defines the number of pre-defined clusters that need to be created from the dataset.\n",
    "\n",
    "![](https://static.javatpoint.com/tutorial/machine-learning/images/k-means-clustering-algorithm-in-machine-learning.png)\n",
    "\n",
    "The reason for making two arrays is to store the original sleep times separately from the sleep times that have been converted into interval type data. This is because the ordering needs to be preserved to perform linear regression, but K-means clustering works without it. "
   ]
  },
  {
   "cell_type": "code",
   "execution_count": 10,
   "id": "93d9a5e9",
   "metadata": {},
   "outputs": [
    {
     "data": {
      "image/png": "[encoded data removed]",
      "text/plain": [
       "<Figure size 720x360 with 1 Axes>"
      ]
     },
     "metadata": {
      "needs_background": "light"
     },
     "output_type": "display_data"
    }
   ],
   "source": [
    "df_cluster = pd.DataFrame({'X': X_cluster, 'Y': Y})\n",
    "kmeans = KMeans(4)\n",
    "kmeans.fit(df_cluster)\n",
    "identified_clusters = kmeans.fit_predict(df_cluster)\n",
    "data_with_clusters = df_cluster.copy()\n",
    "data_with_clusters['Clusters'] = identified_clusters \n",
    "\n",
    "fig2 = plt.figure(2, figsize=(10,5))\n",
    "ax2 = plt.subplot()\n",
    "ax2.xaxis.set_major_locator(tck.MultipleLocator(1))\n",
    "ax2.yaxis.set_major_locator(tck.MultipleLocator(1))\n",
    "ax2.grid()\n",
    "ax2.set(xlabel=\"Sleep time\",\n",
    "       ylabel=\"Wake-up time\",\n",
    "       title=\"Sleep Data (K-Means clustering)\")\n",
    "plt.scatter(data_with_clusters['X'],data_with_clusters['Y'],c=data_with_clusters['Clusters'],cmap='tab10')\n",
    "plt.show()"
   ]
  },
  {
   "cell_type": "markdown",
   "id": "50232d6b",
   "metadata": {},
   "source": [
    "In the above graph, we can see 4 distinct groups of students. \n",
    "\n",
    "Going clockwise, we have:\n",
    "1. The students who sleep early and wake up late.\n",
    "2. The students who sleep late and wake up late.\n",
    "3. The students who sleep late and wake up early.\n",
    "4. The students who sleep early and wake up early."
   ]
  },
  {
   "cell_type": "code",
   "execution_count": 11,
   "id": "5436d4a0",
   "metadata": {},
   "outputs": [
    {
     "data": {
      "image/png": "[encoded data removed]",
      "text/plain": [
       "<Figure size 432x288 with 1 Axes>"
      ]
     },
     "metadata": {
      "needs_background": "light"
     },
     "output_type": "display_data"
    }
   ],
   "source": [
    "sleep_map_bar = {\n",
    "    \"21\": 0,\n",
    "    \"22\": 1,\n",
    "    \"23\": 2,\n",
    "    \"00\": 3,\n",
    "    \"01\": 4,\n",
    "    \"02\": 5,\n",
    "    \"03\": 6,\n",
    "    \"04\": 7,\n",
    "    \"05\": 8,\n",
    "    \"06\": 9,\n",
    "    \"07\": 10,\n",
    "    \"08\": 11,\n",
    "    \"09\": 12,\n",
    "    \"10\": 13,\n",
    "    \"11\": 14,\n",
    "    \"12\": 15,\n",
    "    \"13\": 16,\n",
    "}\n",
    "\n",
    "data_bar = data_file.iloc[:, [2,3, 4]]\n",
    "data_bar.columns = ['Branch', 'X', 'Y']\n",
    "data_bar[\"X\"] = data_bar[\"X\"].apply(lambda x: sleep_map_bar[x.split(\":\")[0]])\n",
    "data_bar[\"Y\"] = data_bar[\"Y\"].apply(lambda y: sleep_map_bar[y.split(\":\")[0]])\n",
    "data_bar[\"duration\"] = (data_bar[\"Y\"] - data_bar[\"X\"])\n",
    "\n",
    "data_bar.groupby(['Branch'])[\"duration\"].mean().round(0).plot(kind='bar', \n",
    "                                                              title='Duration of sleep vs Branch of engineering')\n",
    "plt.xlabel('Branch of engineering')\n",
    "plt.ylabel('Duration of sleep (in hours)')\n",
    "plt.title\n",
    "plt.show()"
   ]
  },
  {
   "cell_type": "markdown",
   "id": "eaf311dc",
   "metadata": {},
   "source": [
    "The above graph shows us the mean duration of sleep that the students get across the various branches of engineering mentioned in the dataset."
   ]
  },
  {
   "cell_type": "markdown",
   "id": "939a18d8",
   "metadata": {},
   "source": [
    "### Conclusion\n",
    "\n",
    "Thus, we have seen the correlation between sleep time and wake-up time of the given set of students, how we can group the students on the basis of the given dataset in order to derive insights about their sleeping habits and how the choice of a particular engineering branch has an impact on their duration of sleep.\n",
    "\n",
    "Key learnings:\n",
    "- Learning to use the scikit-learn, pandas, matplotlib and numpy libraries.\n",
    "- Getting to know how to model data given a particular dataset.\n",
    "- Learning about the different approaches of modelling data.\n",
    "- Learning about the importance of cleaning up the dataset before doing any modelling task."
   ]
  }
 ],
 "metadata": {
  "kernelspec": {
   "display_name": "Python 3 (ipykernel)",
   "language": "python",
   "name": "python3"
  },
  "language_info": {
   "codemirror_mode": {
    "name": "ipython",
    "version": 3
   },
   "file_extension": ".py",
   "mimetype": "text/x-python",
   "name": "python",
   "nbconvert_exporter": "python",
   "pygments_lexer": "ipython3",
   "version": "3.8.10"
  },
  "vscode": {
   "interpreter": {
    "hash": "2b1b59e27ecf2f1dc2fd9ce4c36f1888bd779ea978f08f96e9a132e6c89bf999"
   }
  }
 },
 "nbformat": 4,
 "nbformat_minor": 5
}
